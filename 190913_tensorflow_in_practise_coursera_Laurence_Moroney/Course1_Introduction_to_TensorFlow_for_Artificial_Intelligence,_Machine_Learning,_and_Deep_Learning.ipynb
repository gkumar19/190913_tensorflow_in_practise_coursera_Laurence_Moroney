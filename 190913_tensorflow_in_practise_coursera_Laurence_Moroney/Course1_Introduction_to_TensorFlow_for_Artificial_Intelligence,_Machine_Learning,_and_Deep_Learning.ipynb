{
  "nbformat": 4,
  "nbformat_minor": 0,
  "metadata": {
    "colab": {
      "name": "Course1: Introduction to TensorFlow for Artificial Intelligence, Machine Learning, and Deep Learning.ipynb",
      "version": "0.3.2",
      "provenance": [],
      "collapsed_sections": []
    },
    "kernelspec": {
      "name": "python3",
      "display_name": "Python 3"
    },
    "accelerator": "GPU"
  },
  "cells": [
    {
      "cell_type": "markdown",
      "metadata": {
        "id": "UuU7C0_-o0K9",
        "colab_type": "text"
      },
      "source": [
        "Week1: Neural network with one unit"
      ]
    },
    {
      "cell_type": "code",
      "metadata": {
        "id": "BBR4Po1OkM2j",
        "colab_type": "code",
        "outputId": "c8115323-0a10-47a2-b673-d08186798dd9",
        "colab": {
          "base_uri": "https://localhost:8080/",
          "height": 36
        }
      },
      "source": [
        "import tensorflow as tf\n",
        "import numpy as np\n",
        "from tensorflow import keras\n",
        "\n",
        "model = tf.keras.Sequential([keras.layers.Dense(units = 1, input_shape = [1])]) #layers are called as list inside sequential\n",
        "\n",
        "model.compile(optimizer = 'sgd', loss = 'mean_squared_error')\n",
        "\n",
        "xs = np.array([1.0, 2.0, 3.0, 4.0, 5.0], dtype = float)\n",
        "ys = np.array([11.0, 21.0, 31.0, 41.0, 51.0], dtype = float)\n",
        "\n",
        "model.fit(xs,ys, epochs = 500)\n",
        "\n",
        "model.predict([10.0])\n",
        "\n",
        "model.get_weights()                                                             # to get the weights of the model\n"
      ],
      "execution_count": 0,
      "outputs": [
        {
          "output_type": "execute_result",
          "data": {
            "text/plain": [
              "array([[100.89492]], dtype=float32)"
            ]
          },
          "metadata": {
            "tags": []
          },
          "execution_count": 6
        }
      ]
    },
    {
      "cell_type": "markdown",
      "metadata": {
        "id": "pGUFan9cu-hd",
        "colab_type": "text"
      },
      "source": [
        "Week2: Working with MNIST fasion dataset, training, evaluating and callbacks"
      ]
    },
    {
      "cell_type": "code",
      "metadata": {
        "id": "b0gPiS1OvA94",
        "colab_type": "code",
        "colab": {}
      },
      "source": [
        "print(tf.__version__)\n",
        "mnist = tf.keras.datasets.fashion_mnist\n",
        "(training_images,training_labels),(test_images,test_labels) = mnist.load_data()\n",
        "print(training_images.shape , training_labels.shape, test_images.shape, test_labels.shape)\n",
        "\n",
        "import matplotlib.pyplot as plt\n",
        "plt.imshow(training_images[0])\n",
        "\n",
        "training_images = training_images/255.0\n",
        "test_images = test_images/255.0\n",
        "\n",
        "class mycallbacks(tf.keras.callbacks.Callback):\n",
        "  def on_epoch_end(self,epoch,logs ={}):\n",
        "    if (logs.get('loss') < 0.4):                             #Here logs.get('acc') < 0.7 can also be used\n",
        "      self.model.stop_training = True\n",
        "      print('\\n loss is already less than 0.4')\n",
        "\n",
        "callbacks = mycallbacks()\n",
        "    \n",
        "model2 = tf.keras.Sequential([tf.keras.layers.Flatten(),\n",
        "                              tf.keras.layers.Dense(128,activation = tf.nn.relu),\n",
        "                              tf.keras.layers.Dense(10,activation = tf.nn.softmax)])   #Removing Flatten and decreasing 10 will not work out\n",
        "\n",
        "model2.compile(optimizer = tf.train.AdamOptimizer(),\n",
        "              loss = 'sparse_categorical_crossentropy',\n",
        "              metrics = ['accuracy'])\n",
        "\n",
        "model2.fit(training_images, training_labels,epochs = 5, callbacks = [callbacks])\n",
        "\n",
        "classifications = model2.predict(test_images)\n",
        "\n",
        "model2.evaluate(test_images, test_labels)\n",
        "\n",
        "print(test_labels[0])\n",
        "print(classifications[0])\n",
        "print(np.sum(classifications[0]))\n",
        "\n",
        "\n"
      ],
      "execution_count": 0,
      "outputs": []
    },
    {
      "cell_type": "markdown",
      "metadata": {
        "id": "Wbxo_UtpHkIL",
        "colab_type": "text"
      },
      "source": [
        "Week2 with MNIST dataset handwriting example"
      ]
    },
    {
      "cell_type": "code",
      "metadata": {
        "id": "LkM2Diazv4hv",
        "colab_type": "code",
        "outputId": "dfac603c-f832-4867-c8f4-a62236546c96",
        "colab": {
          "base_uri": "https://localhost:8080/",
          "height": 288
        }
      },
      "source": [
        "import tensorflow as tf\n",
        "import numpy as np\n",
        "import matplotlib.pyplot as plt\n",
        "from tensorflow import keras\n",
        "\n",
        "mnist = tf.keras.datasets.mnist\n",
        "(training_images,training_labels),(test_images,test_labels) = mnist.load_data()\n",
        "\n",
        "training_images = training_images/255.0\n",
        "test_images = test_images/255.0\n",
        "\n",
        "plt.imshow(training_images[0])\n",
        "\n",
        "print(training_images.shape, training_labels.shape, test_images.shape, test_labels.shape)\n",
        "\n",
        "class mycallbacks(tf.keras.callbacks.Callback):\n",
        "  def on_epoch_end(self,epoch,logs = {}):\n",
        "    if(logs.get('acc') > 0.99):\n",
        "      print('accuracy reached beyond 99%')\n",
        "      self.model.stop_training = True\n",
        "\n",
        "callbacks = mycallbacks()\n",
        "\n",
        "model3 = tf.keras.models.Sequential([keras.layers.Flatten(),\n",
        "                                    keras.layers.Dense(units = 128, activation = tf.nn.relu),\n",
        "                                    keras.layers.Dense(units = 10, activation = tf.nn.softmax)])\n",
        "\n",
        "model3.compile(optimizer = 'adam',\n",
        "              loss = 'sparse_categorical_crossentropy',\n",
        "              metrics = ['accuracy'])\n",
        "\n",
        "model3.fit(training_images,training_labels,epochs = 10, callbacks = [callbacks])\n",
        "\n",
        "model3.evaluate(test_images, test_labels)"
      ],
      "execution_count": 0,
      "outputs": [
        {
          "output_type": "execute_result",
          "data": {
            "text/plain": [
              "<matplotlib.image.AxesImage at 0x7fc979aa36a0>"
            ]
          },
          "metadata": {
            "tags": []
          },
          "execution_count": 56
        },
        {
          "output_type": "display_data",
          "data": {
            "image/png": "[encoded data removed]",
            "text/plain": [
              "<Figure size 432x288 with 1 Axes>"
            ]
          },
          "metadata": {
            "tags": []
          }
        }
      ]
    },
    {
      "cell_type": "markdown",
      "metadata": {
        "id": "eqjlFcyVSDN1",
        "colab_type": "text"
      },
      "source": [
        "Week3: Convolutions, Summary, Visualize inner layers"
      ]
    },
    {
      "cell_type": "code",
      "metadata": {
        "id": "jLFgCFkdSPJK",
        "colab_type": "code",
        "outputId": "35550976-85ee-4378-d5a2-40f1be2e9c6b",
        "colab": {
          "base_uri": "https://localhost:8080/",
          "height": 36
        }
      },
      "source": [
        "import tensorflow as tf\n",
        "import numpy as np\n",
        "from tensorflow import keras\n",
        "import matplotlib.pyplot as plt\n",
        "\n",
        "mnist = keras.datasets.fashion_mnist\n",
        "(training_images, training_labels), (test_images,test_labels) = mnist.load_data()\n",
        "\n",
        "training_images = training_images.reshape(60000,28,28,1)    #Conversion to single 4D tensor for conv to take input, flatten is also not used\n",
        "test_images = test_images.reshape(10000,28,28,1)\n",
        "\n",
        "print(training_images.shape, training_labels.shape, test_images.shape, test_labels.shape)\n",
        "\n",
        "training_images = training_images/255.0\n",
        "test_images = test_images/255.0\n",
        "\n",
        "model3 = keras.models.Sequential()\n",
        "model3.add(keras.layers.Conv2D(filters = 64, kernel_size = (3,3), strides = (1,1), activation = 'relu', input_shape = (28,28,1)))\n",
        "model3.add(keras.layers.MaxPooling2D(2,2))\n",
        "model3.add(keras.layers.Conv2D(64,(3,3), activation = 'relu'))\n",
        "model3.add(keras.layers.MaxPooling2D(2,2))\n",
        "model3.add(keras.layers.Flatten())\n",
        "model3.add(keras.layers.Dense(128, activation = 'relu'))\n",
        "model3.add(keras.layers.Dense(10, activation = 'softmax'))\n",
        "\n",
        "model3.compile(optimizer = 'adam', loss = 'sparse_categorical_crossentropy', metrics = ['accuracy'])\n",
        "\n",
        "model3.summary()\n",
        "\n",
        "model3.fit(training_images,training_labels, epochs = 5)\n",
        "\n",
        "test_loss, test_acc = model3.evaluate(test_images,test_labels)\n",
        "print(test_loss, test_acc)\n",
        "\n",
        "\n",
        "FIRST_IMAGE = 2\n",
        "CONVOLUTION_NUMBER = 1\n",
        "\n",
        "from tensorflow.keras import models\n",
        "\n",
        "layer_outputs = [layer.output for layer in model3.layers]\n",
        "activation_model = tf.keras.models.Model(inputs = model3.input ,outputs = layer_outputs)\n",
        "\n",
        "plt.figure(5)\n",
        "plt.imshow(test_images[FIRST_IMAGE].reshape(28,28))\n",
        "\n",
        "for x in range(0,4):\n",
        "  f1 = activation_model.predict(test_images[FIRST_IMAGE].reshape(1,28,28,1))[x]\n",
        "  plt.figure(x)\n",
        "  plt.imshow(f1[0, : , :, CONVOLUTION_NUMBER], cmap='inferno')\n",
        "  plt.grid(False)"
      ],
      "execution_count": 0,
      "outputs": [
        {
          "output_type": "execute_result",
          "data": {
            "text/plain": [
              "(1, 5, 5, 64)"
            ]
          },
          "metadata": {
            "tags": []
          },
          "execution_count": 46
        }
      ]
    },
    {
      "cell_type": "markdown",
      "metadata": {
        "id": "ig7C9CtG9Jlx",
        "colab_type": "text"
      },
      "source": [
        "Week4: Image generator"
      ]
    },
    {
      "cell_type": "code",
      "metadata": {
        "id": "K8fo9iRo9M6d",
        "colab_type": "code",
        "outputId": "3d78daa5-fb6d-4589-f536-5e06b07b3596",
        "colab": {
          "base_uri": "https://localhost:8080/",
          "height": 430
        }
      },
      "source": [
        "#This need to learn on the PC, since the directory will be in the PC, this will not run on google colab\n",
        "\n",
        "import tensorflow as tf\n",
        "import numpy as np\n",
        "import matplotlib.pyplot as plt\n",
        "\n",
        "model4 = tf.keras.models.Sequential([tf.keras.layers.Conv2D(16,(3,3),activation = 'relu', input_shape = (300,300,3)),\n",
        "                                    tf.keras.layers.MaxPooling2D(2,2),\n",
        "                                    tf.keras.layers.Conv2D(32,(3,3),activation = 'relu'),\n",
        "                                    tf.keras.layers.MaxPooling2D(2,2),\n",
        "                                    tf.keras.layers.Flatten(),\n",
        "                                    tf.keras.layers.Dense(512, activation = 'relu'),\n",
        "                                    tf.keras.layers.Dense(1,activation = 'softmax')]) #1 neuron to define 2 outputs: Horse and Humans\n",
        "\n",
        "model4.summary()\n",
        "\n",
        "from tensorflow.keras.optimizers import RMSprop\n",
        "model4.compile(optimizer = RMSprop(lr = 0.09), loss = 'binary_crossentropy', metrics = ['accuracy'])\n",
        "\n",
        "\n",
        "from tensorflow.keras.preprocessing.image import ImageDataGenerator\n",
        "train_datagen = ImageDataGenerator(rescale = 1/255.0)\n",
        "\n",
        "train_generator = train_datagen.flow_from_directory('C:/Users/Gaurav/Desktop/Data_Science/Tensor_Flow/horses_humans',\n",
        "                                                   target_size = (300,300),\n",
        "                                                   batch_size = 128,\n",
        "                                                   class_mode = 'binary')\n",
        "\n",
        "history = model4.fit_generator(train_generator,\n",
        "                              steps_per_epoch = 8,\n",
        "                              epochs = 15,\n",
        "                              verbose = 1)\n"
      ],
      "execution_count": 0,
      "outputs": [
        {
          "output_type": "stream",
          "text": [
            "Model: \"sequential_11\"\n",
            "_________________________________________________________________\n",
            "Layer (type)                 Output Shape              Param #   \n",
            "=================================================================\n",
            "conv2d_24 (Conv2D)           (None, 298, 298, 16)      448       \n",
            "_________________________________________________________________\n",
            "max_pooling2d_23 (MaxPooling (None, 149, 149, 16)      0         \n",
            "_________________________________________________________________\n",
            "conv2d_25 (Conv2D)           (None, 147, 147, 32)      4640      \n",
            "_________________________________________________________________\n",
            "max_pooling2d_24 (MaxPooling (None, 73, 73, 32)        0         \n",
            "_________________________________________________________________\n",
            "flatten_11 (Flatten)         (None, 170528)            0         \n",
            "_________________________________________________________________\n",
            "dense_22 (Dense)             (None, 512)               87310848  \n",
            "_________________________________________________________________\n",
            "dense_23 (Dense)             (None, 1)                 513       \n",
            "=================================================================\n",
            "Total params: 87,316,449\n",
            "Trainable params: 87,316,449\n",
            "Non-trainable params: 0\n",
            "_________________________________________________________________\n"
          ],
          "name": "stdout"
        }
      ]
    },
    {
      "cell_type": "code",
      "metadata": {
        "id": "o8_NvkrmBBHK",
        "colab_type": "code",
        "colab": {}
      },
      "source": [
        ""
      ],
      "execution_count": 0,
      "outputs": []
    }
  ]
}